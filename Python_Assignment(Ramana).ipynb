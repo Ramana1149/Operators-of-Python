{
 "cells": [
  {
   "cell_type": "code",
   "execution_count": 2,
   "metadata": {},
   "outputs": [
    {
     "name": "stdout",
     "output_type": "stream",
     "text": [
      "Affrose training institute\n",
      "Last Three Characters of input_str:- ute\n"
     ]
    }
   ],
   "source": [
    "#Given a string, write a Python program to extract the last three characters from the string and print them.\n",
    "input_str=\"Affrose training institute\"\n",
    "print(input_str)\n",
    "print(\"Last Three Characters of input_str:-\",input_str[-3 : ])"
   ]
  },
  {
   "cell_type": "code",
   "execution_count": null,
   "metadata": {},
   "outputs": [],
   "source": [
    "#You are given a string. Write a Python program to replace all occurrences of the character 'l' (lowercase L) with 'L' (uppercase L) and print the modified string.\n",
    "input_str=\"lilly\"\n",
    "input_str.replace('l','L')"
   ]
  },
  {
   "cell_type": "code",
   "execution_count": 3,
   "metadata": {},
   "outputs": [
    {
     "name": "stdout",
     "output_type": "stream",
     "text": [
      "53 false\n"
     ]
    }
   ],
   "source": [
    "#Write a Python program to check if a given integer is even. If the integer is even, print True; otherwise, print False.\n",
    "num=int(input(\"Enter a number:\"))\n",
    "#if the number is even \n",
    "if num%2==0:\n",
    "  print(num,'true')\n",
    "#if the num is not even\n",
    "else:\n",
    "  print(num,'false')"
   ]
  },
  {
   "cell_type": "code",
   "execution_count": 4,
   "metadata": {},
   "outputs": [
    {
     "name": "stdout",
     "output_type": "stream",
     "text": [
      "4 false\n"
     ]
    }
   ],
   "source": [
    "#Write a Python program to check if a given integer is divisible by both 3 and 5. If the integer is divisible by both, print True; otherwise, print False.\n",
    "num=int(input(\"Enter a number:\"))\n",
    "#if the number is divisible by both 3 and 5\n",
    "if num%3==0 and num%5==0:\n",
    "    print(num,\"true\")\n",
    "#if the number is not divisible by both 3 and 5\n",
    "else:\n",
    "  print(num,\"false\")"
   ]
  },
  {
   "cell_type": "code",
   "execution_count": 8,
   "metadata": {},
   "outputs": [
    {
     "name": "stdout",
     "output_type": "stream",
     "text": [
      "Orange is a fruit, Banana is a yellow color, Banana is having peel\n"
     ]
    }
   ],
   "source": [
    "#Given a string containing multiple occurrences of the word 'banana', write a Python program to replace only the first occurrence of 'banana' with 'orange' and print the modified string.\n",
    "input_str=\"Banana is a fruit, Banana is a yellow color, Banana is having peel\"\n",
    "modified_str=input_str.replace(\"Banana\",\"Orange\",1)\n",
    "print(modified_str)"
   ]
  },
  {
   "cell_type": "code",
   "execution_count": 6,
   "metadata": {},
   "outputs": [
    {
     "name": "stdout",
     "output_type": "stream",
     "text": [
      "Euclidean distance between the two points: 2.8284271247461903\n"
     ]
    }
   ],
   "source": [
    "#Given two tuples representing coordinates (x, y) of two points, write a Python program to calculate the Euclidean distance between them.\n",
    "import math\n",
    "\n",
    "def euclidean_distance_Of_two_points(point_1, point_2):\n",
    "    p1, q1 = point_1\n",
    "    p2, q2 = point_2\n",
    "    distance = math.sqrt((p2 - p1)**2 + (q2 - q1)**2)\n",
    "    return distance\n",
    "    \n",
    "\n",
    "point_1 = (float(input(\"Enter p coordinate of first point: \")), float(input(\"Enter q coordinate of first point: \")))\n",
    "point_2 = (float(input(\"Enter p coordinate of second point: \")), float(input(\"Enter q coordinate of second point: \")))\n",
    "\n",
    "distance = euclidean_distance_Of_two_points(point_1, point_2)\n",
    "print(\"Euclidean distance between the two points:\", distance)"
   ]
  },
  {
   "cell_type": "code",
   "execution_count": 7,
   "metadata": {},
   "outputs": [
    {
     "name": "stdout",
     "output_type": "stream",
     "text": [
      "{'orange'}\n"
     ]
    }
   ],
   "source": [
    "#Write a Python program that takes two sets as input and returns a new set containing only the elements that are common to both sets.\n",
    "input_set_1={\"apple\",\"banana\",\"orange\"}\n",
    "input_set_2={\"papaya\",\"orange\",\"grapes\"}\n",
    "modified_set_3=input_set_1.intersection(input_set_2)\n",
    "print(modified_set_3)\n"
   ]
  },
  {
   "cell_type": "code",
   "execution_count": 2,
   "metadata": {},
   "outputs": [
    {
     "name": "stdout",
     "output_type": "stream",
     "text": [
      "Student  babi  got highest grade \n"
     ]
    }
   ],
   "source": [
    "#You are given a dictionary containing student names as keys and their corresponding grades as values. Write a Python program to find and print the names of students who scored the highest grade.\n",
    "b = {\"dinesh\":22, \"surya\":23, \"babi\":24}\n",
    "\n",
    "\n",
    "m = max(b, key=b.get)\n",
    "\n",
    "\n",
    "print(\"Student \",m,\" got highest grade \")"
   ]
  },
  {
   "cell_type": "code",
   "execution_count": 3,
   "metadata": {},
   "outputs": [
    {
     "name": "stdout",
     "output_type": "stream",
     "text": [
      "6  is positive\n"
     ]
    }
   ],
   "source": [
    "#Write a Python program that takes an integer input from the user and prints whether it is positive, negative, or zero.\n",
    "\n",
    "num = int(input(\"Enter any integer  : \"))\n",
    "\n",
    "if num>0:\n",
    "    print(num,\" is positive\")\n",
    "\n",
    "elif num<0:\n",
    "    print(num,\" is negative\")\n",
    "    \n",
    "else:\n",
    "    print(\"The intered integer is zero\")"
   ]
  },
  {
   "cell_type": "code",
   "execution_count": 8,
   "metadata": {},
   "outputs": [
    {
     "name": "stdout",
     "output_type": "stream",
     "text": [
      "Factorial: 120\n"
     ]
    }
   ],
   "source": [
    "# Write a Python program to calculate the factorial of a given number using a while loop.\n",
    "num = 5\n",
    "fact = 1\n",
    "\n",
    "while num > 0:\n",
    "    fact = fact * num\n",
    "    num = num - 1\n",
    "\n",
    "print(\"Factorial:\",fact)"
   ]
  },
  {
   "cell_type": "code",
   "execution_count": 19,
   "metadata": {},
   "outputs": [
    {
     "name": "stdout",
     "output_type": "stream",
     "text": [
      "Square of 8 is 64\n"
     ]
    }
   ],
   "source": [
    "#Write a Python program that takes a list of numbers as input and prints the square of each number using a for loop.\n",
    "# Input list of numbers\n",
    "numbers_list = input(\"Enter numbers separated by spaces: \").split()\n",
    "\n",
    "# Convert input values to integers\n",
    "numbers_list = [int(num) for num in numbers_list]\n",
    "\n",
    "# Iterate over the numbers and print their squares\n",
    "for num in numbers_list:\n",
    "    square = num ** 2\n",
    "    print(\"Square of\", num,\"is\",square)"
   ]
  },
  {
   "cell_type": "code",
   "execution_count": 21,
   "metadata": {},
   "outputs": [
    {
     "name": "stdout",
     "output_type": "stream",
     "text": [
      "Maximum height: 90\n",
      "Minimum height: 36\n"
     ]
    }
   ],
   "source": [
    "#Given a tuple containing the heights of students, write a Python program to find and print the maximum and minimum height.\n",
    "# Sample tuple containing heights of students\n",
    "heights = (66,36,77,89,90)\n",
    "\n",
    "# Find and print the maximum and minimum heights\n",
    "print(\"Maximum height:\", max(heights))\n",
    "print(\"Minimum height:\",min(heights))"
   ]
  },
  {
   "cell_type": "code",
   "execution_count": 23,
   "metadata": {},
   "outputs": [
    {
     "name": "stdout",
     "output_type": "stream",
     "text": [
      "1250\n"
     ]
    }
   ],
   "source": [
    "#Write a Python function that takes two numbers as input and returns their sum.\n",
    "def add_two_num(num1,num2):\n",
    "    return num1+num2\n",
    "sum=add_two_num(450,800\n",
    "                )\n",
    "print(sum)"
   ]
  },
  {
   "cell_type": "code",
   "execution_count": 24,
   "metadata": {},
   "outputs": [
    {
     "name": "stdout",
     "output_type": "stream",
     "text": [
      "set2 is a subset of set1\n"
     ]
    }
   ],
   "source": [
    "#Write a Python program to check if a given set is a subset of another set.\n",
    "# Define the sets\n",
    "set1 = {1, 2, 3, 4, 5}\n",
    "set2 = {2, 4}\n",
    "\n",
    "# Check if set2 is a subset of set1\n",
    "if set2 <= set1:\n",
    "    print(\"set2 is a subset of set1\")\n",
    "else:\n",
    "    print(\"set2 is not a subset of set1\")"
   ]
  }
 ],
 "metadata": {
  "kernelspec": {
   "display_name": "Python 3",
   "language": "python",
   "name": "python3"
  },
  "language_info": {
   "codemirror_mode": {
    "name": "ipython",
    "version": 3
   },
   "file_extension": ".py",
   "mimetype": "text/x-python",
   "name": "python",
   "nbconvert_exporter": "python",
   "pygments_lexer": "ipython3",
   "version": "3.12.3"
  }
 },
 "nbformat": 4,
 "nbformat_minor": 2
}
